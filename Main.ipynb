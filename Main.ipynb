{
 "cells": [
  {
   "cell_type": "code",
   "execution_count": 44,
   "metadata": {},
   "outputs": [],
   "source": [
    "import pandas as pd\n",
    "import numpy as np\n",
    "import seaborn as sns\n",
    "from pyforest import *\n",
    "import sklearn\n",
    "import sklearn.metrics as metrics\n",
    "from sklearn.metrics import r2_score\n",
    "from sklearn.preprocessing import StandardScaler\n",
    "from sklearn.linear_model import LinearRegression\n",
    "from sklearn.tree import DecisionTreeRegressor\n",
    "from sklearn.ensemble import RandomForestRegressor\n",
    "from statsmodels.formula.api import ols\n",
    "from sklearn.model_selection import train_test_split\n",
    "from scipy.stats import zscore\n",
    "from sklearn.preprocessing import LabelEncoder\n",
    "import pickle\n",
    "from sklearn.model_selection import GridSearchCV, RandomizedSearchCV\n",
    "import statsmodels.api as sm\n",
    "from statsmodels.stats.outliers_influence import variance_inflation_factor\n",
    "from sklearn.model_selection import RandomizedSearchCV\n",
    "from sklearn.model_selection import cross_val_score\n",
    "from sklearn.metrics import mean_squared_error, mean_absolute_error\n",
    "from sklearn.linear_model import Ridge,Lasso,RidgeCV,LassoCV\n",
    "import warnings\n",
    "warnings.filterwarnings('ignore')"
   ]
  },
  {
   "cell_type": "markdown",
   "metadata": {},
   "source": [
    "## Explaining Dataset\n",
    "AT - Ambient Temperature <br>\n",
    "AP - Ambient Pressure<br>\n",
    "RH - Relative Humidity<br>\n",
    "EV - Exhaust Vacuum<br>\n",
    "PE - Plant Energy Output<br>"
   ]
  },
  {
   "cell_type": "code",
   "execution_count": 7,
   "metadata": {},
   "outputs": [
    {
     "data": {
      "application/javascript": "\n        if (window._pyforest_update_imports_cell) { window._pyforest_update_imports_cell('import pandas as pd'); }\n    ",
      "text/plain": [
       "<IPython.core.display.Javascript object>"
      ]
     },
     "metadata": {},
     "output_type": "display_data"
    },
    {
     "data": {
      "application/javascript": "\n        if (window._pyforest_update_imports_cell) { window._pyforest_update_imports_cell('import pandas as pd'); }\n    ",
      "text/plain": [
       "<IPython.core.display.Javascript object>"
      ]
     },
     "metadata": {},
     "output_type": "display_data"
    },
    {
     "data": {
      "application/javascript": "\n        if (window._pyforest_update_imports_cell) { window._pyforest_update_imports_cell('import pandas as pd'); }\n    ",
      "text/plain": [
       "<IPython.core.display.Javascript object>"
      ]
     },
     "metadata": {},
     "output_type": "display_data"
    }
   ],
   "source": [
    "df_train = pd.read_csv(\"Training_set_ccpp.csv\")\n",
    "df_test = pd.read_csv(\"Testing_set_ccpp.csv\")\n",
    "df_train['train_test'] = 0\n",
    "df_test['train_test'] = 1\n",
    "df = pd.concat([df_train, df_test])"
   ]
  },
  {
   "cell_type": "code",
   "execution_count": 8,
   "metadata": {},
   "outputs": [
    {
     "data": {
      "text/html": [
       "<div>\n",
       "<style scoped>\n",
       "    .dataframe tbody tr th:only-of-type {\n",
       "        vertical-align: middle;\n",
       "    }\n",
       "\n",
       "    .dataframe tbody tr th {\n",
       "        vertical-align: top;\n",
       "    }\n",
       "\n",
       "    .dataframe thead th {\n",
       "        text-align: right;\n",
       "    }\n",
       "</style>\n",
       "<table border=\"1\" class=\"dataframe\">\n",
       "  <thead>\n",
       "    <tr style=\"text-align: right;\">\n",
       "      <th></th>\n",
       "      <th>AT</th>\n",
       "      <th>EV</th>\n",
       "      <th>AP</th>\n",
       "      <th>RH</th>\n",
       "      <th>PE</th>\n",
       "      <th>train_test</th>\n",
       "    </tr>\n",
       "  </thead>\n",
       "  <tbody>\n",
       "    <tr>\n",
       "      <th>0</th>\n",
       "      <td>29.95</td>\n",
       "      <td>73.42</td>\n",
       "      <td>1011.44</td>\n",
       "      <td>66.32</td>\n",
       "      <td>432.81</td>\n",
       "      <td>0</td>\n",
       "    </tr>\n",
       "    <tr>\n",
       "      <th>1</th>\n",
       "      <td>5.76</td>\n",
       "      <td>40.07</td>\n",
       "      <td>1013.22</td>\n",
       "      <td>62.99</td>\n",
       "      <td>494.67</td>\n",
       "      <td>0</td>\n",
       "    </tr>\n",
       "    <tr>\n",
       "      <th>2</th>\n",
       "      <td>29.44</td>\n",
       "      <td>64.33</td>\n",
       "      <td>1011.40</td>\n",
       "      <td>61.78</td>\n",
       "      <td>442.32</td>\n",
       "      <td>0</td>\n",
       "    </tr>\n",
       "    <tr>\n",
       "      <th>3</th>\n",
       "      <td>32.83</td>\n",
       "      <td>74.33</td>\n",
       "      <td>1011.44</td>\n",
       "      <td>50.42</td>\n",
       "      <td>427.36</td>\n",
       "      <td>0</td>\n",
       "    </tr>\n",
       "    <tr>\n",
       "      <th>4</th>\n",
       "      <td>16.86</td>\n",
       "      <td>39.63</td>\n",
       "      <td>1004.47</td>\n",
       "      <td>83.50</td>\n",
       "      <td>466.68</td>\n",
       "      <td>0</td>\n",
       "    </tr>\n",
       "    <tr>\n",
       "      <th>...</th>\n",
       "      <td>...</td>\n",
       "      <td>...</td>\n",
       "      <td>...</td>\n",
       "      <td>...</td>\n",
       "      <td>...</td>\n",
       "      <td>...</td>\n",
       "    </tr>\n",
       "    <tr>\n",
       "      <th>3153</th>\n",
       "      <td>22.12</td>\n",
       "      <td>57.19</td>\n",
       "      <td>1007.56</td>\n",
       "      <td>76.50</td>\n",
       "      <td>NaN</td>\n",
       "      <td>1</td>\n",
       "    </tr>\n",
       "    <tr>\n",
       "      <th>3154</th>\n",
       "      <td>9.59</td>\n",
       "      <td>38.56</td>\n",
       "      <td>1017.01</td>\n",
       "      <td>60.10</td>\n",
       "      <td>NaN</td>\n",
       "      <td>1</td>\n",
       "    </tr>\n",
       "    <tr>\n",
       "      <th>3155</th>\n",
       "      <td>31.38</td>\n",
       "      <td>71.32</td>\n",
       "      <td>1009.17</td>\n",
       "      <td>60.42</td>\n",
       "      <td>NaN</td>\n",
       "      <td>1</td>\n",
       "    </tr>\n",
       "    <tr>\n",
       "      <th>3156</th>\n",
       "      <td>12.38</td>\n",
       "      <td>45.51</td>\n",
       "      <td>1016.15</td>\n",
       "      <td>81.37</td>\n",
       "      <td>NaN</td>\n",
       "      <td>1</td>\n",
       "    </tr>\n",
       "    <tr>\n",
       "      <th>3157</th>\n",
       "      <td>22.35</td>\n",
       "      <td>65.61</td>\n",
       "      <td>1016.27</td>\n",
       "      <td>73.93</td>\n",
       "      <td>NaN</td>\n",
       "      <td>1</td>\n",
       "    </tr>\n",
       "  </tbody>\n",
       "</table>\n",
       "<p>9568 rows × 6 columns</p>\n",
       "</div>"
      ],
      "text/plain": [
       "         AT     EV       AP     RH      PE  train_test\n",
       "0     29.95  73.42  1011.44  66.32  432.81           0\n",
       "1      5.76  40.07  1013.22  62.99  494.67           0\n",
       "2     29.44  64.33  1011.40  61.78  442.32           0\n",
       "3     32.83  74.33  1011.44  50.42  427.36           0\n",
       "4     16.86  39.63  1004.47  83.50  466.68           0\n",
       "...     ...    ...      ...    ...     ...         ...\n",
       "3153  22.12  57.19  1007.56  76.50     NaN           1\n",
       "3154   9.59  38.56  1017.01  60.10     NaN           1\n",
       "3155  31.38  71.32  1009.17  60.42     NaN           1\n",
       "3156  12.38  45.51  1016.15  81.37     NaN           1\n",
       "3157  22.35  65.61  1016.27  73.93     NaN           1\n",
       "\n",
       "[9568 rows x 6 columns]"
      ]
     },
     "execution_count": 8,
     "metadata": {},
     "output_type": "execute_result"
    }
   ],
   "source": [
    "df"
   ]
  },
  {
   "cell_type": "code",
   "execution_count": 9,
   "metadata": {},
   "outputs": [
    {
     "data": {
      "text/html": [
       "<div>\n",
       "<style scoped>\n",
       "    .dataframe tbody tr th:only-of-type {\n",
       "        vertical-align: middle;\n",
       "    }\n",
       "\n",
       "    .dataframe tbody tr th {\n",
       "        vertical-align: top;\n",
       "    }\n",
       "\n",
       "    .dataframe thead th {\n",
       "        text-align: right;\n",
       "    }\n",
       "</style>\n",
       "<table border=\"1\" class=\"dataframe\">\n",
       "  <thead>\n",
       "    <tr style=\"text-align: right;\">\n",
       "      <th></th>\n",
       "      <th>AT</th>\n",
       "      <th>EV</th>\n",
       "      <th>AP</th>\n",
       "      <th>RH</th>\n",
       "      <th>PE</th>\n",
       "      <th>train_test</th>\n",
       "    </tr>\n",
       "  </thead>\n",
       "  <tbody>\n",
       "    <tr>\n",
       "      <th>3148</th>\n",
       "      <td>3.74</td>\n",
       "      <td>35.19</td>\n",
       "      <td>1018.58</td>\n",
       "      <td>98.84</td>\n",
       "      <td>NaN</td>\n",
       "      <td>1</td>\n",
       "    </tr>\n",
       "    <tr>\n",
       "      <th>3149</th>\n",
       "      <td>23.94</td>\n",
       "      <td>62.08</td>\n",
       "      <td>1022.47</td>\n",
       "      <td>61.97</td>\n",
       "      <td>NaN</td>\n",
       "      <td>1</td>\n",
       "    </tr>\n",
       "    <tr>\n",
       "      <th>3150</th>\n",
       "      <td>10.15</td>\n",
       "      <td>41.46</td>\n",
       "      <td>1019.56</td>\n",
       "      <td>81.79</td>\n",
       "      <td>NaN</td>\n",
       "      <td>1</td>\n",
       "    </tr>\n",
       "    <tr>\n",
       "      <th>3151</th>\n",
       "      <td>24.64</td>\n",
       "      <td>72.24</td>\n",
       "      <td>1011.37</td>\n",
       "      <td>80.61</td>\n",
       "      <td>NaN</td>\n",
       "      <td>1</td>\n",
       "    </tr>\n",
       "    <tr>\n",
       "      <th>3152</th>\n",
       "      <td>14.66</td>\n",
       "      <td>43.13</td>\n",
       "      <td>1014.97</td>\n",
       "      <td>46.31</td>\n",
       "      <td>NaN</td>\n",
       "      <td>1</td>\n",
       "    </tr>\n",
       "    <tr>\n",
       "      <th>3153</th>\n",
       "      <td>22.12</td>\n",
       "      <td>57.19</td>\n",
       "      <td>1007.56</td>\n",
       "      <td>76.50</td>\n",
       "      <td>NaN</td>\n",
       "      <td>1</td>\n",
       "    </tr>\n",
       "    <tr>\n",
       "      <th>3154</th>\n",
       "      <td>9.59</td>\n",
       "      <td>38.56</td>\n",
       "      <td>1017.01</td>\n",
       "      <td>60.10</td>\n",
       "      <td>NaN</td>\n",
       "      <td>1</td>\n",
       "    </tr>\n",
       "    <tr>\n",
       "      <th>3155</th>\n",
       "      <td>31.38</td>\n",
       "      <td>71.32</td>\n",
       "      <td>1009.17</td>\n",
       "      <td>60.42</td>\n",
       "      <td>NaN</td>\n",
       "      <td>1</td>\n",
       "    </tr>\n",
       "    <tr>\n",
       "      <th>3156</th>\n",
       "      <td>12.38</td>\n",
       "      <td>45.51</td>\n",
       "      <td>1016.15</td>\n",
       "      <td>81.37</td>\n",
       "      <td>NaN</td>\n",
       "      <td>1</td>\n",
       "    </tr>\n",
       "    <tr>\n",
       "      <th>3157</th>\n",
       "      <td>22.35</td>\n",
       "      <td>65.61</td>\n",
       "      <td>1016.27</td>\n",
       "      <td>73.93</td>\n",
       "      <td>NaN</td>\n",
       "      <td>1</td>\n",
       "    </tr>\n",
       "  </tbody>\n",
       "</table>\n",
       "</div>"
      ],
      "text/plain": [
       "         AT     EV       AP     RH  PE  train_test\n",
       "3148   3.74  35.19  1018.58  98.84 NaN           1\n",
       "3149  23.94  62.08  1022.47  61.97 NaN           1\n",
       "3150  10.15  41.46  1019.56  81.79 NaN           1\n",
       "3151  24.64  72.24  1011.37  80.61 NaN           1\n",
       "3152  14.66  43.13  1014.97  46.31 NaN           1\n",
       "3153  22.12  57.19  1007.56  76.50 NaN           1\n",
       "3154   9.59  38.56  1017.01  60.10 NaN           1\n",
       "3155  31.38  71.32  1009.17  60.42 NaN           1\n",
       "3156  12.38  45.51  1016.15  81.37 NaN           1\n",
       "3157  22.35  65.61  1016.27  73.93 NaN           1"
      ]
     },
     "execution_count": 9,
     "metadata": {},
     "output_type": "execute_result"
    }
   ],
   "source": [
    "df.tail(10)"
   ]
  },
  {
   "cell_type": "markdown",
   "metadata": {},
   "source": [
    "## EDA"
   ]
  },
  {
   "cell_type": "code",
   "execution_count": 10,
   "metadata": {},
   "outputs": [
    {
     "name": "stdout",
     "output_type": "stream",
     "text": [
      "<class 'pandas.core.frame.DataFrame'>\n",
      "Int64Index: 9568 entries, 0 to 3157\n",
      "Data columns (total 6 columns):\n",
      " #   Column      Non-Null Count  Dtype  \n",
      "---  ------      --------------  -----  \n",
      " 0   AT          9568 non-null   float64\n",
      " 1   EV          9568 non-null   float64\n",
      " 2   AP          9568 non-null   float64\n",
      " 3   RH          9568 non-null   float64\n",
      " 4   PE          6410 non-null   float64\n",
      " 5   train_test  9568 non-null   int64  \n",
      "dtypes: float64(5), int64(1)\n",
      "memory usage: 523.2 KB\n"
     ]
    }
   ],
   "source": [
    "df.info()"
   ]
  },
  {
   "cell_type": "code",
   "execution_count": 11,
   "metadata": {},
   "outputs": [
    {
     "data": {
      "text/html": [
       "<div>\n",
       "<style scoped>\n",
       "    .dataframe tbody tr th:only-of-type {\n",
       "        vertical-align: middle;\n",
       "    }\n",
       "\n",
       "    .dataframe tbody tr th {\n",
       "        vertical-align: top;\n",
       "    }\n",
       "\n",
       "    .dataframe thead th {\n",
       "        text-align: right;\n",
       "    }\n",
       "</style>\n",
       "<table border=\"1\" class=\"dataframe\">\n",
       "  <thead>\n",
       "    <tr style=\"text-align: right;\">\n",
       "      <th></th>\n",
       "      <th>AT</th>\n",
       "      <th>EV</th>\n",
       "      <th>AP</th>\n",
       "      <th>RH</th>\n",
       "      <th>PE</th>\n",
       "      <th>train_test</th>\n",
       "    </tr>\n",
       "  </thead>\n",
       "  <tbody>\n",
       "    <tr>\n",
       "      <th>count</th>\n",
       "      <td>9568.000000</td>\n",
       "      <td>9568.000000</td>\n",
       "      <td>9568.000000</td>\n",
       "      <td>9568.000000</td>\n",
       "      <td>6410.000000</td>\n",
       "      <td>9568.000000</td>\n",
       "    </tr>\n",
       "    <tr>\n",
       "      <th>mean</th>\n",
       "      <td>19.651231</td>\n",
       "      <td>54.305804</td>\n",
       "      <td>1013.259078</td>\n",
       "      <td>73.308978</td>\n",
       "      <td>454.363276</td>\n",
       "      <td>0.330059</td>\n",
       "    </tr>\n",
       "    <tr>\n",
       "      <th>std</th>\n",
       "      <td>7.452473</td>\n",
       "      <td>12.707893</td>\n",
       "      <td>5.938784</td>\n",
       "      <td>14.600269</td>\n",
       "      <td>17.060129</td>\n",
       "      <td>0.470258</td>\n",
       "    </tr>\n",
       "    <tr>\n",
       "      <th>min</th>\n",
       "      <td>1.810000</td>\n",
       "      <td>25.360000</td>\n",
       "      <td>992.890000</td>\n",
       "      <td>25.560000</td>\n",
       "      <td>420.260000</td>\n",
       "      <td>0.000000</td>\n",
       "    </tr>\n",
       "    <tr>\n",
       "      <th>25%</th>\n",
       "      <td>13.510000</td>\n",
       "      <td>41.740000</td>\n",
       "      <td>1009.100000</td>\n",
       "      <td>63.327500</td>\n",
       "      <td>439.832500</td>\n",
       "      <td>0.000000</td>\n",
       "    </tr>\n",
       "    <tr>\n",
       "      <th>50%</th>\n",
       "      <td>20.345000</td>\n",
       "      <td>52.080000</td>\n",
       "      <td>1012.940000</td>\n",
       "      <td>74.975000</td>\n",
       "      <td>451.440000</td>\n",
       "      <td>0.000000</td>\n",
       "    </tr>\n",
       "    <tr>\n",
       "      <th>75%</th>\n",
       "      <td>25.720000</td>\n",
       "      <td>66.540000</td>\n",
       "      <td>1017.260000</td>\n",
       "      <td>84.830000</td>\n",
       "      <td>468.270000</td>\n",
       "      <td>1.000000</td>\n",
       "    </tr>\n",
       "    <tr>\n",
       "      <th>max</th>\n",
       "      <td>37.110000</td>\n",
       "      <td>81.560000</td>\n",
       "      <td>1033.300000</td>\n",
       "      <td>100.160000</td>\n",
       "      <td>495.760000</td>\n",
       "      <td>1.000000</td>\n",
       "    </tr>\n",
       "  </tbody>\n",
       "</table>\n",
       "</div>"
      ],
      "text/plain": [
       "                AT           EV           AP           RH           PE  \\\n",
       "count  9568.000000  9568.000000  9568.000000  9568.000000  6410.000000   \n",
       "mean     19.651231    54.305804  1013.259078    73.308978   454.363276   \n",
       "std       7.452473    12.707893     5.938784    14.600269    17.060129   \n",
       "min       1.810000    25.360000   992.890000    25.560000   420.260000   \n",
       "25%      13.510000    41.740000  1009.100000    63.327500   439.832500   \n",
       "50%      20.345000    52.080000  1012.940000    74.975000   451.440000   \n",
       "75%      25.720000    66.540000  1017.260000    84.830000   468.270000   \n",
       "max      37.110000    81.560000  1033.300000   100.160000   495.760000   \n",
       "\n",
       "        train_test  \n",
       "count  9568.000000  \n",
       "mean      0.330059  \n",
       "std       0.470258  \n",
       "min       0.000000  \n",
       "25%       0.000000  \n",
       "50%       0.000000  \n",
       "75%       1.000000  \n",
       "max       1.000000  "
      ]
     },
     "execution_count": 11,
     "metadata": {},
     "output_type": "execute_result"
    }
   ],
   "source": [
    "df.describe()"
   ]
  },
  {
   "cell_type": "markdown",
   "metadata": {},
   "source": [
    "On observing mean, std deviationa and max value we can say that there are no outliers or very few outilers. TO investigate it further we will visualize this data."
   ]
  },
  {
   "cell_type": "markdown",
   "metadata": {},
   "source": [
    "## Nans"
   ]
  },
  {
   "cell_type": "code",
   "execution_count": 12,
   "metadata": {},
   "outputs": [
    {
     "data": {
      "text/plain": [
       "AT               0\n",
       "EV               0\n",
       "AP               0\n",
       "RH               0\n",
       "PE            3158\n",
       "train_test       0\n",
       "dtype: int64"
      ]
     },
     "execution_count": 12,
     "metadata": {},
     "output_type": "execute_result"
    }
   ],
   "source": [
    "df.isnull().sum()"
   ]
  },
  {
   "cell_type": "markdown",
   "metadata": {},
   "source": [
    "values displayed as Null in PE are nothing but testing data"
   ]
  },
  {
   "cell_type": "code",
   "execution_count": 14,
   "metadata": {},
   "outputs": [
    {
     "data": {
      "application/javascript": "\n        if (window._pyforest_update_imports_cell) { window._pyforest_update_imports_cell('import pandas as pd\\nimport seaborn as sns\\nimport matplotlib.pyplot as plt'); }\n    ",
      "text/plain": [
       "<IPython.core.display.Javascript object>"
      ]
     },
     "metadata": {},
     "output_type": "display_data"
    },
    {
     "data": {
      "application/javascript": "\n        if (window._pyforest_update_imports_cell) { window._pyforest_update_imports_cell('import pandas as pd\\nimport seaborn as sns\\nimport matplotlib.pyplot as plt'); }\n    ",
      "text/plain": [
       "<IPython.core.display.Javascript object>"
      ]
     },
     "metadata": {},
     "output_type": "display_data"
    },
    {
     "data": {
      "application/javascript": "\n        if (window._pyforest_update_imports_cell) { window._pyforest_update_imports_cell('import pandas as pd\\nimport seaborn as sns\\nimport matplotlib.pyplot as plt'); }\n    ",
      "text/plain": [
       "<IPython.core.display.Javascript object>"
      ]
     },
     "metadata": {},
     "output_type": "display_data"
    },
    {
     "data": {
      "application/javascript": "\n        if (window._pyforest_update_imports_cell) { window._pyforest_update_imports_cell('import pandas as pd\\nimport seaborn as sns\\nimport matplotlib.pyplot as plt'); }\n    ",
      "text/plain": [
       "<IPython.core.display.Javascript object>"
      ]
     },
     "metadata": {},
     "output_type": "display_data"
    },
    {
     "data": {
      "image/png": "[encoded data removed]",
      "text/plain": [
       "<Figure size 720x360 with 1 Axes>"
      ]
     },
     "metadata": {
      "needs_background": "light"
     },
     "output_type": "display_data"
    },
    {
     "data": {
      "application/javascript": "\n        if (window._pyforest_update_imports_cell) { window._pyforest_update_imports_cell('import pandas as pd\\nimport seaborn as sns\\nimport matplotlib.pyplot as plt'); }\n    ",
      "text/plain": [
       "<IPython.core.display.Javascript object>"
      ]
     },
     "metadata": {},
     "output_type": "display_data"
    },
    {
     "data": {
      "application/javascript": "\n        if (window._pyforest_update_imports_cell) { window._pyforest_update_imports_cell('import pandas as pd\\nimport seaborn as sns\\nimport matplotlib.pyplot as plt'); }\n    ",
      "text/plain": [
       "<IPython.core.display.Javascript object>"
      ]
     },
     "metadata": {},
     "output_type": "display_data"
    },
    {
     "data": {
      "application/javascript": "\n        if (window._pyforest_update_imports_cell) { window._pyforest_update_imports_cell('import pandas as pd\\nimport seaborn as sns\\nimport matplotlib.pyplot as plt'); }\n    ",
      "text/plain": [
       "<IPython.core.display.Javascript object>"
      ]
     },
     "metadata": {},
     "output_type": "display_data"
    },
    {
     "data": {
      "application/javascript": "\n        if (window._pyforest_update_imports_cell) { window._pyforest_update_imports_cell('import pandas as pd\\nimport seaborn as sns\\nimport matplotlib.pyplot as plt'); }\n    ",
      "text/plain": [
       "<IPython.core.display.Javascript object>"
      ]
     },
     "metadata": {},
     "output_type": "display_data"
    },
    {
     "data": {
      "image/png": "[encoded data removed]",
      "text/plain": [
       "<Figure size 720x360 with 1 Axes>"
      ]
     },
     "metadata": {
      "needs_background": "light"
     },
     "output_type": "display_data"
    },
    {
     "data": {
      "application/javascript": "\n        if (window._pyforest_update_imports_cell) { window._pyforest_update_imports_cell('import pandas as pd\\nimport seaborn as sns\\nimport matplotlib.pyplot as plt'); }\n    ",
      "text/plain": [
       "<IPython.core.display.Javascript object>"
      ]
     },
     "metadata": {},
     "output_type": "display_data"
    },
    {
     "data": {
      "application/javascript": "\n        if (window._pyforest_update_imports_cell) { window._pyforest_update_imports_cell('import pandas as pd\\nimport seaborn as sns\\nimport matplotlib.pyplot as plt'); }\n    ",
      "text/plain": [
       "<IPython.core.display.Javascript object>"
      ]
     },
     "metadata": {},
     "output_type": "display_data"
    },
    {
     "data": {
      "application/javascript": "\n        if (window._pyforest_update_imports_cell) { window._pyforest_update_imports_cell('import pandas as pd\\nimport seaborn as sns\\nimport matplotlib.pyplot as plt'); }\n    ",
      "text/plain": [
       "<IPython.core.display.Javascript object>"
      ]
     },
     "metadata": {},
     "output_type": "display_data"
    },
    {
     "data": {
      "application/javascript": "\n        if (window._pyforest_update_imports_cell) { window._pyforest_update_imports_cell('import pandas as pd\\nimport seaborn as sns\\nimport matplotlib.pyplot as plt'); }\n    ",
      "text/plain": [
       "<IPython.core.display.Javascript object>"
      ]
     },
     "metadata": {},
     "output_type": "display_data"
    },
    {
     "data": {
      "image/png": "[encoded data removed]",
      "text/plain": [
       "<Figure size 720x360 with 1 Axes>"
      ]
     },
     "metadata": {
      "needs_background": "light"
     },
     "output_type": "display_data"
    },
    {
     "data": {
      "application/javascript": "\n        if (window._pyforest_update_imports_cell) { window._pyforest_update_imports_cell('import pandas as pd\\nimport seaborn as sns\\nimport matplotlib.pyplot as plt'); }\n    ",
      "text/plain": [
       "<IPython.core.display.Javascript object>"
      ]
     },
     "metadata": {},
     "output_type": "display_data"
    },
    {
     "data": {
      "application/javascript": "\n        if (window._pyforest_update_imports_cell) { window._pyforest_update_imports_cell('import pandas as pd\\nimport seaborn as sns\\nimport matplotlib.pyplot as plt'); }\n    ",
      "text/plain": [
       "<IPython.core.display.Javascript object>"
      ]
     },
     "metadata": {},
     "output_type": "display_data"
    },
    {
     "data": {
      "application/javascript": "\n        if (window._pyforest_update_imports_cell) { window._pyforest_update_imports_cell('import pandas as pd\\nimport seaborn as sns\\nimport matplotlib.pyplot as plt'); }\n    ",
      "text/plain": [
       "<IPython.core.display.Javascript object>"
      ]
     },
     "metadata": {},
     "output_type": "display_data"
    },
    {
     "data": {
      "application/javascript": "\n        if (window._pyforest_update_imports_cell) { window._pyforest_update_imports_cell('import pandas as pd\\nimport seaborn as sns\\nimport matplotlib.pyplot as plt'); }\n    ",
      "text/plain": [
       "<IPython.core.display.Javascript object>"
      ]
     },
     "metadata": {},
     "output_type": "display_data"
    },
    {
     "data": {
      "image/png": "[encoded data removed]",
      "text/plain": [
       "<Figure size 720x360 with 1 Axes>"
      ]
     },
     "metadata": {
      "needs_background": "light"
     },
     "output_type": "display_data"
    },
    {
     "data": {
      "application/javascript": "\n        if (window._pyforest_update_imports_cell) { window._pyforest_update_imports_cell('import pandas as pd\\nimport seaborn as sns\\nimport matplotlib.pyplot as plt'); }\n    ",
      "text/plain": [
       "<IPython.core.display.Javascript object>"
      ]
     },
     "metadata": {},
     "output_type": "display_data"
    },
    {
     "data": {
      "application/javascript": "\n        if (window._pyforest_update_imports_cell) { window._pyforest_update_imports_cell('import pandas as pd\\nimport seaborn as sns\\nimport matplotlib.pyplot as plt'); }\n    ",
      "text/plain": [
       "<IPython.core.display.Javascript object>"
      ]
     },
     "metadata": {},
     "output_type": "display_data"
    },
    {
     "data": {
      "application/javascript": "\n        if (window._pyforest_update_imports_cell) { window._pyforest_update_imports_cell('import pandas as pd\\nimport seaborn as sns\\nimport matplotlib.pyplot as plt'); }\n    ",
      "text/plain": [
       "<IPython.core.display.Javascript object>"
      ]
     },
     "metadata": {},
     "output_type": "display_data"
    },
    {
     "data": {
      "application/javascript": "\n        if (window._pyforest_update_imports_cell) { window._pyforest_update_imports_cell('import pandas as pd\\nimport seaborn as sns\\nimport matplotlib.pyplot as plt'); }\n    ",
      "text/plain": [
       "<IPython.core.display.Javascript object>"
      ]
     },
     "metadata": {},
     "output_type": "display_data"
    },
    {
     "data": {
      "image/png": "[encoded data removed]",
      "text/plain": [
       "<Figure size 720x360 with 1 Axes>"
      ]
     },
     "metadata": {
      "needs_background": "light"
     },
     "output_type": "display_data"
    },
    {
     "data": {
      "application/javascript": "\n        if (window._pyforest_update_imports_cell) { window._pyforest_update_imports_cell('import pandas as pd\\nimport seaborn as sns\\nimport matplotlib.pyplot as plt'); }\n    ",
      "text/plain": [
       "<IPython.core.display.Javascript object>"
      ]
     },
     "metadata": {},
     "output_type": "display_data"
    },
    {
     "data": {
      "application/javascript": "\n        if (window._pyforest_update_imports_cell) { window._pyforest_update_imports_cell('import pandas as pd\\nimport seaborn as sns\\nimport matplotlib.pyplot as plt'); }\n    ",
      "text/plain": [
       "<IPython.core.display.Javascript object>"
      ]
     },
     "metadata": {},
     "output_type": "display_data"
    },
    {
     "data": {
      "application/javascript": "\n        if (window._pyforest_update_imports_cell) { window._pyforest_update_imports_cell('import pandas as pd\\nimport seaborn as sns\\nimport matplotlib.pyplot as plt'); }\n    ",
      "text/plain": [
       "<IPython.core.display.Javascript object>"
      ]
     },
     "metadata": {},
     "output_type": "display_data"
    },
    {
     "data": {
      "application/javascript": "\n        if (window._pyforest_update_imports_cell) { window._pyforest_update_imports_cell('import pandas as pd\\nimport seaborn as sns\\nimport matplotlib.pyplot as plt'); }\n    ",
      "text/plain": [
       "<IPython.core.display.Javascript object>"
      ]
     },
     "metadata": {},
     "output_type": "display_data"
    },
    {
     "data": {
      "image/png": "[encoded data removed]",
      "text/plain": [
       "<Figure size 720x360 with 1 Axes>"
      ]
     },
     "metadata": {
      "needs_background": "light"
     },
     "output_type": "display_data"
    }
   ],
   "source": [
    "for i in df_train.columns:\n",
    "    plt.figure(figsize=(10,5))\n",
    "    sns.histplot(df[i], palette = \"viridis\")\n",
    "    plt.title(\"histogram\")\n",
    "    plt.show()"
   ]
  },
  {
   "cell_type": "code",
   "execution_count": 15,
   "metadata": {},
   "outputs": [
    {
     "data": {
      "text/plain": [
       "Index(['AT', 'EV', 'AP', 'RH', 'PE', 'train_test'], dtype='object')"
      ]
     },
     "execution_count": 15,
     "metadata": {},
     "output_type": "execute_result"
    }
   ],
   "source": [
    "df_train.columns"
   ]
  },
  {
   "cell_type": "code",
   "execution_count": 16,
   "metadata": {},
   "outputs": [
    {
     "data": {
      "application/javascript": "\n        if (window._pyforest_update_imports_cell) { window._pyforest_update_imports_cell('import pandas as pd\\nimport seaborn as sns\\nimport matplotlib.pyplot as plt'); }\n    ",
      "text/plain": [
       "<IPython.core.display.Javascript object>"
      ]
     },
     "metadata": {},
     "output_type": "display_data"
    },
    {
     "data": {
      "application/javascript": "\n        if (window._pyforest_update_imports_cell) { window._pyforest_update_imports_cell('import pandas as pd\\nimport seaborn as sns\\nimport matplotlib.pyplot as plt'); }\n    ",
      "text/plain": [
       "<IPython.core.display.Javascript object>"
      ]
     },
     "metadata": {},
     "output_type": "display_data"
    },
    {
     "data": {
      "image/png": "[encoded data removed]",
      "text/plain": [
       "<Figure size 432x288 with 1 Axes>"
      ]
     },
     "metadata": {
      "needs_background": "light"
     },
     "output_type": "display_data"
    },
    {
     "data": {
      "application/javascript": "\n        if (window._pyforest_update_imports_cell) { window._pyforest_update_imports_cell('import pandas as pd\\nimport seaborn as sns\\nimport matplotlib.pyplot as plt'); }\n    ",
      "text/plain": [
       "<IPython.core.display.Javascript object>"
      ]
     },
     "metadata": {},
     "output_type": "display_data"
    },
    {
     "data": {
      "application/javascript": "\n        if (window._pyforest_update_imports_cell) { window._pyforest_update_imports_cell('import pandas as pd\\nimport seaborn as sns\\nimport matplotlib.pyplot as plt'); }\n    ",
      "text/plain": [
       "<IPython.core.display.Javascript object>"
      ]
     },
     "metadata": {},
     "output_type": "display_data"
    },
    {
     "data": {
      "image/png": "[encoded data removed]",
      "text/plain": [
       "<Figure size 432x288 with 1 Axes>"
      ]
     },
     "metadata": {
      "needs_background": "light"
     },
     "output_type": "display_data"
    },
    {
     "data": {
      "application/javascript": "\n        if (window._pyforest_update_imports_cell) { window._pyforest_update_imports_cell('import pandas as pd\\nimport seaborn as sns\\nimport matplotlib.pyplot as plt'); }\n    ",
      "text/plain": [
       "<IPython.core.display.Javascript object>"
      ]
     },
     "metadata": {},
     "output_type": "display_data"
    },
    {
     "data": {
      "application/javascript": "\n        if (window._pyforest_update_imports_cell) { window._pyforest_update_imports_cell('import pandas as pd\\nimport seaborn as sns\\nimport matplotlib.pyplot as plt'); }\n    ",
      "text/plain": [
       "<IPython.core.display.Javascript object>"
      ]
     },
     "metadata": {},
     "output_type": "display_data"
    },
    {
     "data": {
      "image/png": "[encoded data removed]",
      "text/plain": [
       "<Figure size 432x288 with 1 Axes>"
      ]
     },
     "metadata": {
      "needs_background": "light"
     },
     "output_type": "display_data"
    }
   ],
   "source": [
    "for i in df_train.columns[0:-3]:\n",
    "    sns.scatterplot(x = \"PE\", y = i, data = df_train)\n",
    "    plt.show()"
   ]
  },
  {
   "cell_type": "markdown",
   "metadata": {},
   "source": [
    " Observation\n",
    "- As ambient temperature increases Power output decreases\n",
    "- Same is the relation for exhaust vacuum\n",
    "- As ambient pressure increases Ouput increases"
   ]
  },
  {
   "cell_type": "markdown",
   "metadata": {},
   "source": [
    "## Checking Outlier"
   ]
  },
  {
   "cell_type": "markdown",
   "metadata": {},
   "source": [
    "from scipy.stats import zscore"
   ]
  },
  {
   "cell_type": "markdown",
   "metadata": {},
   "source": [
    "z = np.abs(zscore(df_train))\n",
    "print(z)"
   ]
  },
  {
   "cell_type": "markdown",
   "metadata": {},
   "source": [
    "threshold = 3\n",
    "print(np.where(z>3))"
   ]
  },
  {
   "cell_type": "markdown",
   "metadata": {},
   "source": [
    "df_train_new = df_train[(z<3).all(axis= 1)]"
   ]
  },
  {
   "cell_type": "markdown",
   "metadata": {},
   "source": [
    "df_train.shape, df_train_new.shape"
   ]
  },
  {
   "cell_type": "markdown",
   "metadata": {},
   "source": [
    "#data loss\n",
    "print((6410-6380)*100/6410)"
   ]
  },
  {
   "cell_type": "markdown",
   "metadata": {},
   "source": [
    "less than 0.5% of data has been lost"
   ]
  },
  {
   "cell_type": "markdown",
   "metadata": {},
   "source": [
    "#heatmap\n",
    "plt.figure(figsize=(10, 5))\n",
    "sns.heatmap(df_train.corr(), annot = True)\n",
    "plt.show()"
   ]
  },
  {
   "cell_type": "markdown",
   "metadata": {},
   "source": [
    "## Scaling\n"
   ]
  },
  {
   "cell_type": "code",
   "execution_count": 40,
   "metadata": {},
   "outputs": [],
   "source": [
    "from sklearn.preprocessing import StandardScaler\n",
    "sc = StandardScaler()\n",
    "df[['AT', 'EV', 'AP', 'RH']] = sc.fit_transform(df[['AT', 'EV', 'AP', 'RH']])\n",
    "\n",
    "X_train_scaled = df[df.train_test == 0].drop([\"train_test\", \"PE\"], axis = 1)\n",
    "y_train_scaled = df[df.train_test == 0][\"PE\"]\n",
    "X_test = df[df.train_test == 1].drop([\"train_test\" ,\"PE\"], axis = 1)"
   ]
  },
  {
   "cell_type": "code",
   "execution_count": 41,
   "metadata": {},
   "outputs": [
    {
     "data": {
      "application/javascript": "\n        if (window._pyforest_update_imports_cell) { window._pyforest_update_imports_cell('import pandas as pd\\nimport numpy as np\\nimport seaborn as sns\\nimport matplotlib.pyplot as plt'); }\n    ",
      "text/plain": [
       "<IPython.core.display.Javascript object>"
      ]
     },
     "metadata": {},
     "output_type": "display_data"
    },
    {
     "data": {
      "application/javascript": "\n        if (window._pyforest_update_imports_cell) { window._pyforest_update_imports_cell('import pandas as pd\\nimport numpy as np\\nimport seaborn as sns\\nimport matplotlib.pyplot as plt'); }\n    ",
      "text/plain": [
       "<IPython.core.display.Javascript object>"
      ]
     },
     "metadata": {},
     "output_type": "display_data"
    },
    {
     "data": {
      "text/plain": [
       "<AxesSubplot:>"
      ]
     },
     "execution_count": 41,
     "metadata": {},
     "output_type": "execute_result"
    },
    {
     "data": {
      "image/png": "[encoded data removed]",
      "text/plain": [
       "<Figure size 720x360 with 2 Axes>"
      ]
     },
     "metadata": {
      "needs_background": "light"
     },
     "output_type": "display_data"
    }
   ],
   "source": [
    "plt.figure(figsize=(10,5))\n",
    "sns.heatmap(df[['AT', 'EV', 'AP', 'RH','PE']].corr(),annot=True,cmap=\"Spectral\")"
   ]
  },
  {
   "cell_type": "markdown",
   "metadata": {},
   "source": [
    "EV and AT have correlation > 0.6 so we can reduce them into one attr."
   ]
  },
  {
   "cell_type": "code",
   "execution_count": 42,
   "metadata": {},
   "outputs": [],
   "source": [
    "X_train_2_scaled = X_train_scaled[['EV', 'AP', 'RH']]#removing one of the col in highly correlated cols \n",
    "X_train_3_scaled = X_train_scaled[['AT', 'AP', 'RH']]\n",
    "X_test_2 = X_test[['EV', 'AP', 'RH']]\n",
    "X_test_3 = X_test[['AT', 'AP', 'RH']]"
   ]
  },
  {
   "cell_type": "markdown",
   "metadata": {},
   "source": [
    "## Model Fitting"
   ]
  },
  {
   "cell_type": "code",
   "execution_count": null,
   "metadata": {},
   "outputs": [],
   "source": [
    "X_train1, X_test1, y_train1, y_test1 = train_test_split(\n",
    "    X_train_scaled, y_train_scaled, test_size=0.2, random_state=2, shuffle=True)\n",
    "\n",
    "X_train2, X_test2, y_train2, y_test2 = train_test_split(\n",
    "    X_train_2_scaled, y_train_scaled, test_size=0.2, random_state=2, shuffle=True)\n",
    "    \n",
    "X_train3, X_test3, y_train3, y_test3 = train_test_split(\n",
    "    X_train_3_scaled, y_train_scaled, test_size=0.2, random_state=2, shuffle=True)\n"
   ]
  },
  {
   "attachments": {},
   "cell_type": "markdown",
   "metadata": {},
   "source": [
    "## Model Fitting"
   ]
  },
  {
   "attachments": {},
   "cell_type": "markdown",
   "metadata": {},
   "source": [
    "### Model 1: Linear Regression"
   ]
  },
  {
   "cell_type": "code",
   "execution_count": 47,
   "metadata": {},
   "outputs": [
    {
     "name": "stdout",
     "output_type": "stream",
     "text": [
      "0.9302626405402185\n",
      "Cross Val score :  92.91861586055724\n",
      "MAE: 3.653452780792703\n",
      "MSE: 20.395282402687307\n"
     ]
    },
    {
     "data": {
      "application/javascript": "\n        if (window._pyforest_update_imports_cell) { window._pyforest_update_imports_cell('import matplotlib.pyplot as plt\\nimport seaborn as sns\\nimport pandas as pd\\nfrom sklearn.model_selection import train_test_split\\nimport numpy as np'); }\n    ",
      "text/plain": [
       "<IPython.core.display.Javascript object>"
      ]
     },
     "metadata": {},
     "output_type": "display_data"
    },
    {
     "name": "stdout",
     "output_type": "stream",
     "text": [
      "RMSE: 4.5161136392574655\n",
      "\n",
      "\n",
      "0.8020019002839451\n",
      "Cross Val score :  80.20417407888374\n",
      "MAE: 5.947528897217521\n",
      "MSE: 57.90622401229974\n"
     ]
    },
    {
     "data": {
      "application/javascript": "\n        if (window._pyforest_update_imports_cell) { window._pyforest_update_imports_cell('import matplotlib.pyplot as plt\\nimport seaborn as sns\\nimport pandas as pd\\nfrom sklearn.model_selection import train_test_split\\nimport numpy as np'); }\n    ",
      "text/plain": [
       "<IPython.core.display.Javascript object>"
      ]
     },
     "metadata": {},
     "output_type": "display_data"
    },
    {
     "name": "stdout",
     "output_type": "stream",
     "text": [
      "RMSE: 7.609613920055323\n",
      "\n",
      "\n",
      "0.9237195238333845\n",
      "Cross Val score :  92.18638625462849\n",
      "MAE: 3.7996973783467505\n",
      "MSE: 22.308872393237202\n"
     ]
    },
    {
     "data": {
      "application/javascript": "\n        if (window._pyforest_update_imports_cell) { window._pyforest_update_imports_cell('import matplotlib.pyplot as plt\\nimport seaborn as sns\\nimport pandas as pd\\nfrom sklearn.model_selection import train_test_split\\nimport numpy as np'); }\n    ",
      "text/plain": [
       "<IPython.core.display.Javascript object>"
      ]
     },
     "metadata": {},
     "output_type": "display_data"
    },
    {
     "name": "stdout",
     "output_type": "stream",
     "text": [
      "RMSE: 4.723226904695264\n",
      "\n",
      "\n"
     ]
    }
   ],
   "source": [
    "lr = LinearRegression()\n",
    "lr.fit(X_train1, y_train1)\n",
    "\n",
    "y_pred1 = lr.predict(X_test1)\n",
    "\n",
    "rscore1 = r2_score(y_test1, y_pred1)\n",
    "print(rscore1)\n",
    "cvscore1=cross_val_score(lr,X_train_scaled,y_train_scaled,cv=5)\n",
    "print(\"Cross Val score : \",cvscore1.mean()*100)\n",
    "\n",
    "print('MAE:', metrics.mean_absolute_error(y_test1, y_pred1))\n",
    "print('MSE:', metrics.mean_squared_error(y_test1, y_pred1))\n",
    "print('RMSE:', np.sqrt(metrics.mean_squared_error(y_test1, y_pred1)))\n",
    "print(\"\\n\")\n",
    "\n",
    "#------------------------------------------------------------------------\n",
    "\n",
    "lr.fit(X_train2, y_train2)\n",
    "\n",
    "y_pred2 = lr.predict(X_test2)\n",
    "\n",
    "rscore2 = r2_score(y_test2, y_pred2)\n",
    "print(rscore2)\n",
    "cvscore2=cross_val_score(lr,X_train_2_scaled,y_train_scaled,cv=5)\n",
    "print(\"Cross Val score : \",cvscore2.mean()*100)\n",
    "\n",
    "print('MAE:', metrics.mean_absolute_error(y_test2, y_pred2))\n",
    "print('MSE:', metrics.mean_squared_error(y_test2, y_pred2))\n",
    "print('RMSE:', np.sqrt(metrics.mean_squared_error(y_test2, y_pred2)))\n",
    "print(\"\\n\")\n",
    "\n",
    "#------------------------------------------------------------------------\n",
    "\n",
    "lr.fit(X_train3, y_train3)\n",
    "\n",
    "y_pred3 = lr.predict(X_test3)\n",
    "\n",
    "rscore3 = r2_score(y_test3, y_pred3)\n",
    "print(rscore3)\n",
    "cvscore3=cross_val_score(lr,X_train_3_scaled,y_train_scaled,cv=5)\n",
    "print(\"Cross Val score : \",cvscore3.mean()*100)\n",
    "\n",
    "print('MAE:', metrics.mean_absolute_error(y_test3, y_pred3))\n",
    "print('MSE:', metrics.mean_squared_error(y_test3, y_pred3))\n",
    "print('RMSE:', np.sqrt(metrics.mean_squared_error(y_test3, y_pred3)))\n",
    "print(\"\\n\")"
   ]
  },
  {
   "attachments": {},
   "cell_type": "markdown",
   "metadata": {},
   "source": [
    "### Model 2: SVR"
   ]
  },
  {
   "cell_type": "code",
   "execution_count": 48,
   "metadata": {},
   "outputs": [
    {
     "name": "stdout",
     "output_type": "stream",
     "text": [
      "0.9426523811117475\n",
      "Cross Val score :  93.92988485180302\n",
      "MAE: 3.1246520628242465\n",
      "MSE: 16.77179766208567\n"
     ]
    },
    {
     "data": {
      "application/javascript": "\n        if (window._pyforest_update_imports_cell) { window._pyforest_update_imports_cell('import matplotlib.pyplot as plt\\nimport seaborn as sns\\nimport pandas as pd\\nfrom sklearn.model_selection import train_test_split\\nimport numpy as np'); }\n    ",
      "text/plain": [
       "<IPython.core.display.Javascript object>"
      ]
     },
     "metadata": {},
     "output_type": "display_data"
    },
    {
     "name": "stdout",
     "output_type": "stream",
     "text": [
      "RMSE: 4.09533852838635\n",
      "0.832238475724299\n",
      "Cross Val score :  83.57974487100745\n",
      "MAE: 5.297775293715193\n",
      "MSE: 49.06328100767069\n"
     ]
    },
    {
     "data": {
      "application/javascript": "\n        if (window._pyforest_update_imports_cell) { window._pyforest_update_imports_cell('import matplotlib.pyplot as plt\\nimport seaborn as sns\\nimport pandas as pd\\nfrom sklearn.model_selection import train_test_split\\nimport numpy as np'); }\n    ",
      "text/plain": [
       "<IPython.core.display.Javascript object>"
      ]
     },
     "metadata": {},
     "output_type": "display_data"
    },
    {
     "name": "stdout",
     "output_type": "stream",
     "text": [
      "RMSE: 7.004518613557301\n",
      "0.9346521023865593\n",
      "Cross Val score :  92.89513033176495\n",
      "MAE: 3.3740550644523384\n",
      "MSE: 19.111547046983556\n"
     ]
    },
    {
     "data": {
      "application/javascript": "\n        if (window._pyforest_update_imports_cell) { window._pyforest_update_imports_cell('import matplotlib.pyplot as plt\\nimport seaborn as sns\\nimport pandas as pd\\nfrom sklearn.model_selection import train_test_split\\nimport numpy as np'); }\n    ",
      "text/plain": [
       "<IPython.core.display.Javascript object>"
      ]
     },
     "metadata": {},
     "output_type": "display_data"
    },
    {
     "name": "stdout",
     "output_type": "stream",
     "text": [
      "RMSE: 4.37167554228165\n"
     ]
    }
   ],
   "source": [
    "from sklearn.svm import SVR\n",
    "svr = SVR()\n",
    "svr.fit(X_train1, y_train1)\n",
    "\n",
    "y_pred1 = svr.predict(X_test1)\n",
    "rscore1 = r2_score(y_test1, y_pred1)\n",
    "print(rscore1)\n",
    "cvscore1=cross_val_score(svr,X_train_scaled,y_train_scaled,cv=5)\n",
    "print(\"Cross Val score : \",cvscore1.mean()*100)\n",
    "\n",
    "print('MAE:', metrics.mean_absolute_error(y_test1, y_pred1))\n",
    "print('MSE:', metrics.mean_squared_error(y_test1, y_pred1))\n",
    "print('RMSE:', np.sqrt(metrics.mean_squared_error(y_test1, y_pred1)))\n",
    "\n",
    "#---------------------------------------------------------------------\n",
    "svr.fit(X_train2, y_train2)\n",
    "\n",
    "y_pred2 = svr.predict(X_test2)\n",
    "rscore2 = r2_score(y_test2, y_pred2)\n",
    "print(rscore2)\n",
    "cvscore2=cross_val_score(svr,X_train_2_scaled,y_train_scaled,cv=5)\n",
    "print(\"Cross Val score : \",cvscore2.mean()*100)\n",
    "\n",
    "print('MAE:', metrics.mean_absolute_error(y_test2, y_pred2))\n",
    "print('MSE:', metrics.mean_squared_error(y_test2, y_pred2))\n",
    "print('RMSE:', np.sqrt(metrics.mean_squared_error(y_test2, y_pred2)))\n",
    "\n",
    "#---------------------------------------------------------------------\n",
    "svr.fit(X_train3, y_train3)\n",
    "\n",
    "y_pred3 = svr.predict(X_test3)\n",
    "rscore3 = r2_score(y_test3, y_pred3)\n",
    "print(rscore3)\n",
    "cvscore3=cross_val_score(svr,X_train_3_scaled,y_train_scaled,cv=5)\n",
    "print(\"Cross Val score : \",cvscore3.mean()*100)\n",
    "\n",
    "print('MAE:', metrics.mean_absolute_error(y_test3, y_pred3))\n",
    "print('MSE:', metrics.mean_squared_error(y_test3, y_pred3))\n",
    "print('RMSE:', np.sqrt(metrics.mean_squared_error(y_test3, y_pred3)))\n",
    "\n",
    "#---------------------------------------------------------------------"
   ]
  },
  {
   "attachments": {},
   "cell_type": "markdown",
   "metadata": {},
   "source": [
    "### Model 3: Lasso Regression"
   ]
  },
  {
   "cell_type": "code",
   "execution_count": 49,
   "metadata": {},
   "outputs": [
    {
     "name": "stdout",
     "output_type": "stream",
     "text": [
      "0.9129553531940335\n",
      "Cross Val score :  91.36236218692734\n",
      "MAE: 4.061498225562429\n",
      "MSE: 25.45694541637611\n"
     ]
    },
    {
     "data": {
      "application/javascript": "\n        if (window._pyforest_update_imports_cell) { window._pyforest_update_imports_cell('import matplotlib.pyplot as plt\\nimport seaborn as sns\\nimport pandas as pd\\nfrom sklearn.model_selection import train_test_split\\nimport numpy as np'); }\n    ",
      "text/plain": [
       "<IPython.core.display.Javascript object>"
      ]
     },
     "metadata": {},
     "output_type": "display_data"
    },
    {
     "name": "stdout",
     "output_type": "stream",
     "text": [
      "RMSE: 5.045487629196618\n",
      "0.7940313924779638\n",
      "Cross Val score :  79.53699739387532\n",
      "MAE: 6.038086777769691\n",
      "MSE: 60.23726663930889\n"
     ]
    },
    {
     "data": {
      "application/javascript": "\n        if (window._pyforest_update_imports_cell) { window._pyforest_update_imports_cell('import matplotlib.pyplot as plt\\nimport seaborn as sns\\nimport pandas as pd\\nfrom sklearn.model_selection import train_test_split\\nimport numpy as np'); }\n    ",
      "text/plain": [
       "<IPython.core.display.Javascript object>"
      ]
     },
     "metadata": {},
     "output_type": "display_data"
    },
    {
     "name": "stdout",
     "output_type": "stream",
     "text": [
      "RMSE: 7.761267076921712\n",
      "0.9064678820445132\n",
      "Cross Val score :  90.67149303537634\n",
      "MAE: 4.173477873042743\n",
      "MSE: 27.354261391611175\n"
     ]
    },
    {
     "data": {
      "application/javascript": "\n        if (window._pyforest_update_imports_cell) { window._pyforest_update_imports_cell('import matplotlib.pyplot as plt\\nimport seaborn as sns\\nimport pandas as pd\\nfrom sklearn.model_selection import train_test_split\\nimport numpy as np'); }\n    ",
      "text/plain": [
       "<IPython.core.display.Javascript object>"
      ]
     },
     "metadata": {},
     "output_type": "display_data"
    },
    {
     "name": "stdout",
     "output_type": "stream",
     "text": [
      "RMSE: 5.230130150542258\n"
     ]
    }
   ],
   "source": [
    "from sklearn.linear_model import Lasso\n",
    "\n",
    "ls = Lasso()\n",
    "ls.fit(X_train1, y_train1)\n",
    "y_pred1 = ls.predict(X_test1)\n",
    "\n",
    "rscore1 = r2_score(y_test1, y_pred1)\n",
    "print(rscore1)\n",
    "cvscore1=cross_val_score(ls,X_train_scaled,y_train_scaled,cv=5)\n",
    "print(\"Cross Val score : \",cvscore1.mean()*100)\n",
    "\n",
    "print('MAE:', metrics.mean_absolute_error(y_test1, y_pred1))\n",
    "print('MSE:', metrics.mean_squared_error(y_test1, y_pred1))\n",
    "print('RMSE:', np.sqrt(metrics.mean_squared_error(y_test1, y_pred1)))\n",
    "\n",
    "#-----------------------------------------------------------------------\n",
    "\n",
    "ls.fit(X_train2, y_train2)\n",
    "\n",
    "y_pred2 = ls.predict(X_test2)\n",
    "rscore2 = r2_score(y_test2, y_pred2)\n",
    "print(rscore2)\n",
    "cvscore2=cross_val_score(ls,X_train_2_scaled,y_train_scaled,cv=5)\n",
    "print(\"Cross Val score : \",cvscore2.mean()*100)\n",
    "\n",
    "print('MAE:', metrics.mean_absolute_error(y_test2, y_pred2))\n",
    "print('MSE:', metrics.mean_squared_error(y_test2, y_pred2))\n",
    "print('RMSE:', np.sqrt(metrics.mean_squared_error(y_test2, y_pred2)))\n",
    "\n",
    "#---------------------------------------------------------------------\n",
    "ls.fit(X_train3, y_train3)\n",
    "\n",
    "y_pred3 = ls.predict(X_test3)\n",
    "rscore3 = r2_score(y_test3, y_pred3)\n",
    "print(rscore3)\n",
    "cvscore3=cross_val_score(ls,X_train_3_scaled,y_train_scaled,cv=5)\n",
    "print(\"Cross Val score : \",cvscore3.mean()*100)\n",
    "\n",
    "print('MAE:', metrics.mean_absolute_error(y_test3, y_pred3))\n",
    "print('MSE:', metrics.mean_squared_error(y_test3, y_pred3))\n",
    "print('RMSE:', np.sqrt(metrics.mean_squared_error(y_test3, y_pred3)))"
   ]
  },
  {
   "attachments": {},
   "cell_type": "markdown",
   "metadata": {},
   "source": [
    "### Model 4: Decision Tree"
   ]
  },
  {
   "cell_type": "code",
   "execution_count": 50,
   "metadata": {},
   "outputs": [
    {
     "name": "stdout",
     "output_type": "stream",
     "text": [
      "0.9102657217981749\n",
      "Cross Val score :  91.75866585729295\n",
      "MAE: 3.432191887675507\n",
      "MSE: 26.243550936037444\n"
     ]
    },
    {
     "data": {
      "application/javascript": "\n        if (window._pyforest_update_imports_cell) { window._pyforest_update_imports_cell('import matplotlib.pyplot as plt\\nimport seaborn as sns\\nimport pandas as pd\\nfrom sklearn.model_selection import train_test_split\\nimport numpy as np'); }\n    ",
      "text/plain": [
       "<IPython.core.display.Javascript object>"
      ]
     },
     "metadata": {},
     "output_type": "display_data"
    },
    {
     "name": "stdout",
     "output_type": "stream",
     "text": [
      "RMSE: 5.122845980120566\n",
      "0.8445346049034144\n",
      "Cross Val score :  86.56415338004993\n",
      "MAE: 4.261193447737911\n",
      "MSE: 45.46717371294852\n"
     ]
    },
    {
     "data": {
      "application/javascript": "\n        if (window._pyforest_update_imports_cell) { window._pyforest_update_imports_cell('import matplotlib.pyplot as plt\\nimport seaborn as sns\\nimport pandas as pd\\nfrom sklearn.model_selection import train_test_split\\nimport numpy as np'); }\n    ",
      "text/plain": [
       "<IPython.core.display.Javascript object>"
      ]
     },
     "metadata": {},
     "output_type": "display_data"
    },
    {
     "name": "stdout",
     "output_type": "stream",
     "text": [
      "RMSE: 6.7429350963025385\n",
      "0.8817440899101788\n",
      "Cross Val score :  87.5126242475202\n",
      "MAE: 4.393104524180969\n",
      "MSE: 34.58494414976601\n"
     ]
    },
    {
     "data": {
      "application/javascript": "\n        if (window._pyforest_update_imports_cell) { window._pyforest_update_imports_cell('import matplotlib.pyplot as plt\\nimport seaborn as sns\\nimport pandas as pd\\nfrom sklearn.model_selection import train_test_split\\nimport numpy as np'); }\n    ",
      "text/plain": [
       "<IPython.core.display.Javascript object>"
      ]
     },
     "metadata": {},
     "output_type": "display_data"
    },
    {
     "name": "stdout",
     "output_type": "stream",
     "text": [
      "RMSE: 5.880896543025222\n"
     ]
    }
   ],
   "source": [
    "dtr = DecisionTreeRegressor()\n",
    "dtr.fit(X_train1, y_train1)\n",
    "y_pred1 = dtr.predict(X_test1)\n",
    "\n",
    "rscore1 = r2_score(y_test1, y_pred1)\n",
    "print(rscore1)\n",
    "cvscore1=cross_val_score(dtr,X_train_scaled,y_train_scaled,cv=5)\n",
    "print(\"Cross Val score : \",cvscore1.mean()*100)\n",
    "\n",
    "print('MAE:', metrics.mean_absolute_error(y_test1, y_pred1))\n",
    "print('MSE:', metrics.mean_squared_error(y_test1, y_pred1))\n",
    "print('RMSE:', np.sqrt(metrics.mean_squared_error(y_test1, y_pred1)))\n",
    "\n",
    "#-----------------------------------------------------------------------\n",
    "\n",
    "dtr.fit(X_train2, y_train2)\n",
    "\n",
    "y_pred2 = dtr.predict(X_test2)\n",
    "rscore2 = r2_score(y_test2, y_pred2)\n",
    "print(rscore2)\n",
    "cvscore2=cross_val_score(dtr,X_train_2_scaled,y_train_scaled,cv=5)\n",
    "print(\"Cross Val score : \",cvscore2.mean()*100)\n",
    "\n",
    "print('MAE:', metrics.mean_absolute_error(y_test2, y_pred2))\n",
    "print('MSE:', metrics.mean_squared_error(y_test2, y_pred2))\n",
    "print('RMSE:', np.sqrt(metrics.mean_squared_error(y_test2, y_pred2)))\n",
    "\n",
    "#---------------------------------------------------------------------\n",
    "dtr.fit(X_train3, y_train3)\n",
    "\n",
    "y_pred3 = dtr.predict(X_test3)\n",
    "rscore3 = r2_score(y_test3, y_pred3)\n",
    "print(rscore3)\n",
    "cvscore3=cross_val_score(dtr,X_train_3_scaled,y_train_scaled,cv=5)\n",
    "print(\"Cross Val score : \",cvscore3.mean()*100)\n",
    "\n",
    "print('MAE:', metrics.mean_absolute_error(y_test3, y_pred3))\n",
    "print('MSE:', metrics.mean_squared_error(y_test3, y_pred3))\n",
    "print('RMSE:', np.sqrt(metrics.mean_squared_error(y_test3, y_pred3)))"
   ]
  },
  {
   "attachments": {},
   "cell_type": "markdown",
   "metadata": {},
   "source": [
    "### Model 5: Random forest"
   ]
  },
  {
   "cell_type": "code",
   "execution_count": 51,
   "metadata": {},
   "outputs": [
    {
     "name": "stdout",
     "output_type": "stream",
     "text": [
      "0.9588773348589889\n",
      "Cross Val score :  95.70769299426267\n",
      "MAE: 2.5068618564742704\n",
      "MSE: 12.026672291567934\n"
     ]
    },
    {
     "data": {
      "application/javascript": "\n        if (window._pyforest_update_imports_cell) { window._pyforest_update_imports_cell('import matplotlib.pyplot as plt\\nimport seaborn as sns\\nimport pandas as pd\\nfrom sklearn.model_selection import train_test_split\\nimport numpy as np'); }\n    ",
      "text/plain": [
       "<IPython.core.display.Javascript object>"
      ]
     },
     "metadata": {},
     "output_type": "display_data"
    },
    {
     "name": "stdout",
     "output_type": "stream",
     "text": [
      "RMSE: 3.467949291954531\n",
      "0.9099545848946965\n",
      "Cross Val score :  92.18949849608504\n",
      "MAE: 3.460119344773794\n",
      "MSE: 26.334545563042198\n"
     ]
    },
    {
     "data": {
      "application/javascript": "\n        if (window._pyforest_update_imports_cell) { window._pyforest_update_imports_cell('import matplotlib.pyplot as plt\\nimport seaborn as sns\\nimport pandas as pd\\nfrom sklearn.model_selection import train_test_split\\nimport numpy as np'); }\n    ",
      "text/plain": [
       "<IPython.core.display.Javascript object>"
      ]
     },
     "metadata": {},
     "output_type": "display_data"
    },
    {
     "name": "stdout",
     "output_type": "stream",
     "text": [
      "RMSE: 5.131719552259476\n",
      "0.9349292855706148\n",
      "Cross Val score :  93.24237506163084\n",
      "MAE: 3.3309113884555384\n",
      "MSE: 19.030482473276116\n"
     ]
    },
    {
     "data": {
      "application/javascript": "\n        if (window._pyforest_update_imports_cell) { window._pyforest_update_imports_cell('import matplotlib.pyplot as plt\\nimport seaborn as sns\\nimport pandas as pd\\nfrom sklearn.model_selection import train_test_split\\nimport numpy as np'); }\n    ",
      "text/plain": [
       "<IPython.core.display.Javascript object>"
      ]
     },
     "metadata": {},
     "output_type": "display_data"
    },
    {
     "name": "stdout",
     "output_type": "stream",
     "text": [
      "RMSE: 4.3623941217267515\n"
     ]
    }
   ],
   "source": [
    "rfr = RandomForestRegressor()\n",
    "rfr.fit(X_train1, y_train1)\n",
    "y_pred1 = rfr.predict(X_test1)\n",
    "\n",
    "rscore1 = r2_score(y_test1, y_pred1)\n",
    "print(rscore1)\n",
    "cvscore1=cross_val_score(rfr,X_train_scaled,y_train_scaled,cv=5)\n",
    "print(\"Cross Val score : \",cvscore1.mean()*100)\n",
    "\n",
    "print('MAE:', metrics.mean_absolute_error(y_test1, y_pred1))\n",
    "print('MSE:', metrics.mean_squared_error(y_test1, y_pred1))\n",
    "print('RMSE:', np.sqrt(metrics.mean_squared_error(y_test1, y_pred1)))\n",
    "\n",
    "#-----------------------------------------------------------------------\n",
    "\n",
    "rfr.fit(X_train2, y_train2)\n",
    "\n",
    "y_pred2 = rfr.predict(X_test2)\n",
    "rscore2 = r2_score(y_test2, y_pred2)\n",
    "print(rscore2)\n",
    "cvscore2=cross_val_score(rfr,X_train_2_scaled,y_train_scaled,cv=5)\n",
    "print(\"Cross Val score : \",cvscore2.mean()*100)\n",
    "\n",
    "print('MAE:', metrics.mean_absolute_error(y_test2, y_pred2))\n",
    "print('MSE:', metrics.mean_squared_error(y_test2, y_pred2))\n",
    "print('RMSE:', np.sqrt(metrics.mean_squared_error(y_test2, y_pred2)))\n",
    "\n",
    "#---------------------------------------------------------------------\n",
    "rfr.fit(X_train3, y_train3)\n",
    "\n",
    "y_pred3 = rfr.predict(X_test3)\n",
    "rscore3 = r2_score(y_test3, y_pred3)\n",
    "print(rscore3)\n",
    "cvscore3=cross_val_score(rfr,X_train_3_scaled,y_train_scaled,cv=5)\n",
    "print(\"Cross Val score : \",cvscore3.mean()*100)\n",
    "\n",
    "print('MAE:', metrics.mean_absolute_error(y_test3, y_pred3))\n",
    "print('MSE:', metrics.mean_squared_error(y_test3, y_pred3))\n",
    "print('RMSE:', np.sqrt(metrics.mean_squared_error(y_test3, y_pred3)))"
   ]
  },
  {
   "attachments": {},
   "cell_type": "markdown",
   "metadata": {},
   "source": [
    "### Model 6: XGBoost"
   ]
  },
  {
   "cell_type": "code",
   "execution_count": 52,
   "metadata": {},
   "outputs": [
    {
     "name": "stdout",
     "output_type": "stream",
     "text": [
      "0.9631476004186118\n",
      "Cross Val score :  96.09260887424888\n",
      "MAE: 2.376079152028386\n",
      "MSE: 10.777796901136671\n"
     ]
    },
    {
     "data": {
      "application/javascript": "\n        if (window._pyforest_update_imports_cell) { window._pyforest_update_imports_cell('import matplotlib.pyplot as plt\\nimport seaborn as sns\\nimport pandas as pd\\nfrom sklearn.model_selection import train_test_split\\nimport numpy as np'); }\n    ",
      "text/plain": [
       "<IPython.core.display.Javascript object>"
      ]
     },
     "metadata": {},
     "output_type": "display_data"
    },
    {
     "name": "stdout",
     "output_type": "stream",
     "text": [
      "RMSE: 3.2829555131217774\n",
      "0.906485581676517\n",
      "Cross Val score :  92.20511244090291\n",
      "MAE: 3.758010337698664\n",
      "MSE: 27.34908498407383\n"
     ]
    },
    {
     "data": {
      "application/javascript": "\n        if (window._pyforest_update_imports_cell) { window._pyforest_update_imports_cell('import matplotlib.pyplot as plt\\nimport seaborn as sns\\nimport pandas as pd\\nfrom sklearn.model_selection import train_test_split\\nimport numpy as np'); }\n    ",
      "text/plain": [
       "<IPython.core.display.Javascript object>"
      ]
     },
     "metadata": {},
     "output_type": "display_data"
    },
    {
     "name": "stdout",
     "output_type": "stream",
     "text": [
      "RMSE: 5.229635263005808\n",
      "0.9314845819084167\n",
      "Cross Val score :  92.85896603919532\n",
      "MAE: 3.4464724964731013\n",
      "MSE: 20.037915283011646\n"
     ]
    },
    {
     "data": {
      "application/javascript": "\n        if (window._pyforest_update_imports_cell) { window._pyforest_update_imports_cell('import matplotlib.pyplot as plt\\nimport seaborn as sns\\nimport pandas as pd\\nfrom sklearn.model_selection import train_test_split\\nimport numpy as np'); }\n    ",
      "text/plain": [
       "<IPython.core.display.Javascript object>"
      ]
     },
     "metadata": {},
     "output_type": "display_data"
    },
    {
     "name": "stdout",
     "output_type": "stream",
     "text": [
      "RMSE: 4.476373005348376\n"
     ]
    }
   ],
   "source": [
    "from xgboost import XGBRegressor\n",
    "\n",
    "xbr = XGBRegressor()\n",
    "xbr.fit(X_train1, y_train1)\n",
    "y_pred1 = xbr.predict(X_test1)\n",
    "\n",
    "rscore1 = r2_score(y_test1, y_pred1)\n",
    "print(rscore1)\n",
    "cvscore1=cross_val_score(xbr,X_train_scaled,y_train_scaled,cv=5)\n",
    "print(\"Cross Val score : \",cvscore1.mean()*100)\n",
    "\n",
    "print('MAE:', metrics.mean_absolute_error(y_test1, y_pred1))\n",
    "print('MSE:', metrics.mean_squared_error(y_test1, y_pred1))\n",
    "print('RMSE:', np.sqrt(metrics.mean_squared_error(y_test1, y_pred1)))\n",
    "\n",
    "#-----------------------------------------------------------------------\n",
    "\n",
    "xbr.fit(X_train2, y_train2)\n",
    "\n",
    "y_pred2 = xbr.predict(X_test2)\n",
    "rscore2 = r2_score(y_test2, y_pred2)\n",
    "print(rscore2)\n",
    "cvscore2=cross_val_score(xbr,X_train_2_scaled,y_train_scaled,cv=5)\n",
    "print(\"Cross Val score : \",cvscore2.mean()*100)\n",
    "\n",
    "print('MAE:', metrics.mean_absolute_error(y_test2, y_pred2))\n",
    "print('MSE:', metrics.mean_squared_error(y_test2, y_pred2))\n",
    "print('RMSE:', np.sqrt(metrics.mean_squared_error(y_test2, y_pred2)))\n",
    "\n",
    "#---------------------------------------------------------------------\n",
    "xbr.fit(X_train3, y_train3)\n",
    "\n",
    "y_pred3 = xbr.predict(X_test3)\n",
    "rscore3 = r2_score(y_test3, y_pred3)\n",
    "print(rscore3)\n",
    "cvscore3=cross_val_score(xbr,X_train_3_scaled,y_train_scaled,cv=5)\n",
    "print(\"Cross Val score : \",cvscore3.mean()*100)\n",
    "\n",
    "print('MAE:', metrics.mean_absolute_error(y_test3, y_pred3))\n",
    "print('MSE:', metrics.mean_squared_error(y_test3, y_pred3))\n",
    "print('RMSE:', np.sqrt(metrics.mean_squared_error(y_test3, y_pred3)))"
   ]
  },
  {
   "cell_type": "code",
   "execution_count": 54,
   "metadata": {},
   "outputs": [
    {
     "name": "stdout",
     "output_type": "stream",
     "text": [
      "[454.18793 435.32635 435.2079  ... 433.0007  471.61374 446.6757 ]\n"
     ]
    },
    {
     "data": {
      "application/javascript": "\n        if (window._pyforest_update_imports_cell) { window._pyforest_update_imports_cell('import matplotlib.pyplot as plt\\nimport seaborn as sns\\nimport pandas as pd\\nfrom sklearn.model_selection import train_test_split\\nimport numpy as np'); }\n    ",
      "text/plain": [
       "<IPython.core.display.Javascript object>"
      ]
     },
     "metadata": {},
     "output_type": "display_data"
    }
   ],
   "source": [
    "\n",
    "xbr.fit(X_train1, y_train1)\n",
    "y_test = xbr.predict(X_test)\n",
    "print(y_test)\n",
    "basic_submission = {'PE':y_test}\n",
    "base_submission = pd.DataFrame(data = basic_submission)\n",
    "base_submission.to_csv('base_submission.csv', index=False)"
   ]
  }
 ],
 "metadata": {
  "kernelspec": {
   "display_name": "Python 3.9.7 ('base')",
   "language": "python",
   "name": "python3"
  },
  "language_info": {
   "codemirror_mode": {
    "name": "ipython",
    "version": 3
   },
   "file_extension": ".py",
   "mimetype": "text/x-python",
   "name": "python",
   "nbconvert_exporter": "python",
   "pygments_lexer": "ipython3",
   "version": "3.9.7"
  },
  "orig_nbformat": 4,
  "vscode": {
   "interpreter": {
    "hash": "b302cdd1e032ee910f5c889c3360c28564c92ad4f326fc3102e39fbe47faee66"
   }
  }
 },
 "nbformat": 4,
 "nbformat_minor": 2
}
